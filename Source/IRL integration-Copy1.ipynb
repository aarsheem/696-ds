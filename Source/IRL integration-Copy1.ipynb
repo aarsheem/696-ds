{
 "cells": [
  {
   "cell_type": "code",
   "execution_count": 1,
   "metadata": {},
   "outputs": [],
   "source": [
    "import numpy as np\n",
    "import matplotlib.pyplot as plt\n",
    "from tqdm import tqdm\n",
    "from helper import decaying_epsilon, save_obj, load_obj\n",
    "from helper import evaluate_policy, optimal_agent\n",
    "from systemrl.environments.gridworld import Gridworld\n",
    "from systemrl.agents.q_learning import QLearning\n",
    "from systemrl.agents.sarsa import SARSA\n",
    "from systemrl.agents.sarsa_lambda import SARSALambda\n",
    "from systemrl.agents.q_lambda import QLambda\n",
    "from shared_autonomy import shared_autonomy\n",
    "from shared_modified import shared_modified\n",
    "from mincost import mincost\n",
    "from nqcost import nqcost\n",
    "from copy import deepcopy\n",
    "import multiprocessing\n",
    "%matplotlib inline"
   ]
  },
  {
   "cell_type": "code",
   "execution_count": 2,
   "metadata": {},
   "outputs": [],
   "source": [
    "def init_random_policy(num_states, num_actions):\n",
    "    policy = [np.random.choice(num_actions) for i in range(num_states)]\n",
    "    return policy\n",
    "\n",
    "def init_nonrandom_policy():\n",
    "    (u,d,l,r) = (0, 1, 2, 3)\n",
    "    human_policy = [\n",
    "            r, r, r, r, d,\n",
    "            u, d, l, l, l,\n",
    "            d, l, l, r, d,\n",
    "            d, r, r, u, d, \n",
    "            r, r, u, u, u]\n",
    "    return human_policy\n",
    "\n",
    "def init_human_policy():\n",
    "    (u,d,l,r) = (0, 1, 2, 3)\n",
    "    human_policy = [\n",
    "            r, d, r, d, l,\n",
    "            r, d, r, d, l,\n",
    "            r, d, l, d, d,\n",
    "            r, d, d, d, d, \n",
    "            r, r, r, r, d]\n",
    "    return human_policy"
   ]
  },
  {
   "cell_type": "code",
   "execution_count": 3,
   "metadata": {},
   "outputs": [],
   "source": [
    "np.random.seed(0)\n",
    "startState=0\n",
    "endStates=[24]\n",
    "shape=[5,5]\n",
    "obstacles=[]\n",
    "waterStates=np.arange(1,24)\n",
    "waterRewards=[-1,-1,-1,-5,-9,\\\n",
    "              -3,-4,-1,-6,-5,\\\n",
    "              -1,-1,-1,-2,-6,\\\n",
    "              -1,-8,-4,-5,-7,\\\n",
    "              -1,-1,-1]\n",
    "env = Gridworld(startState, endStates, shape, obstacles, waterStates, waterRewards, irl_reward=True)"
   ]
  },
  {
   "cell_type": "code",
   "execution_count": 4,
   "metadata": {
    "scrolled": true
   },
   "outputs": [
    {
     "name": "stderr",
     "output_type": "stream",
     "text": [
      "100%|██████████| 100/100 [00:00<00:00, 3706.07it/s]"
     ]
    },
    {
     "name": "stdout",
     "output_type": "stream",
     "text": [
      "evaluating policy\n",
      "human performance:  -23.372571076201893\n"
     ]
    },
    {
     "name": "stderr",
     "output_type": "stream",
     "text": [
      "\n"
     ]
    }
   ],
   "source": [
    "gamma = 1\n",
    "num_actions = 4\n",
    "num_states = 25\n",
    "human_policy = init_nonrandom_policy()#init_random_policy(25, 4)\n",
    "# human_policy = init_human_policy()\n",
    "human_performance = np.mean(evaluate_policy(env, human_policy))\n",
    "print(\"human performance: \", human_performance)"
   ]
  },
  {
   "cell_type": "code",
   "execution_count": 5,
   "metadata": {},
   "outputs": [],
   "source": [
    "saved_model = True\n",
    "\n",
    "if not saved_model:\n",
    "    learning_rate = 0.005\n",
    "    untrained_agent = QLearning(num_actions, gamma, learning_rate)\n",
    "    trained_agent = optimal_agent(env, untrained_agent, num_episodes=10000)\n",
    "    q_star = trained_agent.q_table\n",
    "    save_obj(dict(q_star), \"q_star\")\n",
    "else:\n",
    "    q_star = load_obj(\"q_star\")\n",
    "J_star = np.max(q_star[startState])\n",
    "baseline = human_performance\n",
    "# print(q_star)"
   ]
  },
  {
   "cell_type": "code",
   "execution_count": 6,
   "metadata": {},
   "outputs": [],
   "source": [
    "# q_table = np.load(file=\"/home/abhik/696-ds/inverse-rl/gridworld/maxent/results/maxent_q_table.npy\") # (400, 3)"
   ]
  },
  {
   "cell_type": "code",
   "execution_count": 7,
   "metadata": {},
   "outputs": [],
   "source": [
    "# print(q_table)\n",
    "# q_star = {i: q_table[i] for i in range(len(q_table))}\n",
    "# J_star = np.max(q_star[0])\n",
    "# baseline = human_performance\n",
    "# print(J_star, baseline)"
   ]
  },
  {
   "cell_type": "code",
   "execution_count": 8,
   "metadata": {},
   "outputs": [
    {
     "name": "stderr",
     "output_type": "stream",
     "text": [
      "100%|██████████| 38/38 [01:22<00:00,  2.16s/it]\n"
     ]
    },
    {
     "data": {
      "image/png": "[encoded data removed]",
      "text/plain": [
       "<Figure size 432x288 with 1 Axes>"
      ]
     },
     "metadata": {
      "needs_background": "light"
     },
     "output_type": "display_data"
    }
   ],
   "source": [
    "shared = []\n",
    "nq_cost = []\n",
    "min_cost = []\n",
    "mod_shared = []\n",
    "alphas = np.concatenate((np.arange(0, 1e-3, 1e-4), np.arange(1e-3, 1e-2, 1e-3), np.arange(1e-2, 0.1, 1e-2), np.arange(0.1, 1.01, 0.1)))\n",
    "# alphas = np.arange(1e-3, 1e-2, 1e-3)\n",
    "for alpha in tqdm(alphas):\n",
    "    env.reset()\n",
    "    min_performance = baseline + alpha * (J_star-baseline)\n",
    "    #mincost\n",
    "    \"\"\"\n",
    "    untrained_agent = QLambda(num_actions, gamma, learning_rate, 0.5)\n",
    "    interventions, returns = mincost(env, human_policy, min_performance, untrained_agent, num_episodes=1000)\n",
    "    \"\"\"\n",
    "\n",
    "    #shared autonomy\n",
    "    interventions, returns = shared_autonomy(env, human_policy, q_star, alpha)\n",
    "    shared.append((np.mean(interventions), np.mean(returns)))\n",
    "    \n",
    "    #modified shared autonomy\n",
    "    interventions, returns = shared_modified(env, human_policy, q_star, gamma, min_performance)\n",
    "    mod_shared.append((np.mean(interventions), np.mean(returns)))\n",
    "\n",
    "    #nqlearning\n",
    "    lr = 0.09\n",
    "    interventions, returns = nqcost(env, human_policy, deepcopy(q_star), gamma,\\\n",
    "            lr, min_performance, num_episodes = 1000)\n",
    "    nq_cost.append((np.mean(interventions),np.mean(returns)))\n",
    "\n",
    "nq_cost = np.array(nq_cost).T\n",
    "shared = np.array(shared).T\n",
    "mod_shared = np.array(mod_shared).T\n",
    "\n",
    "plt.plot(mod_shared[0], mod_shared[1], label=\"mod shared\")\n",
    "plt.plot(shared[0], shared[1], label=\"shared\")\n",
    "plt.plot(nq_cost[0], nq_cost[1], label=\"nq\")\n",
    "plt.xlabel(\"interventions\")\n",
    "plt.ylabel(\"returns\")\n",
    "\n",
    "plt.legend()\n",
    "plt.savefig(\"normal_irl\")\n",
    "plt.show()"
   ]
  },
  {
   "cell_type": "code",
   "execution_count": 8,
   "metadata": {},
   "outputs": [
    {
     "data": {
      "image/png": "[encoded data removed]",
      "text/plain": [
       "<Figure size 432x288 with 1 Axes>"
      ]
     },
     "metadata": {
      "needs_background": "light"
     },
     "output_type": "display_data"
    }
   ],
   "source": [
    "# shared = sorted(shared, key=lambda x: x[1])\n",
    "\n",
    "\n",
    "plt.plot(shared[0], shared[1])\n",
    "plt.show()"
   ]
  },
  {
   "cell_type": "code",
   "execution_count": 9,
   "metadata": {},
   "outputs": [
    {
     "data": {
      "image/png": "[encoded data removed]",
      "text/plain": [
       "<Figure size 432x288 with 1 Axes>"
      ]
     },
     "metadata": {
      "needs_background": "light"
     },
     "output_type": "display_data"
    }
   ],
   "source": [
    "plt.plot(nq_cost[0], nq_cost[1])\n",
    "plt.show()"
   ]
  },
  {
   "cell_type": "code",
   "execution_count": 10,
   "metadata": {},
   "outputs": [
    {
     "data": {
      "image/png": "[encoded data removed]",
      "text/plain": [
       "<Figure size 432x288 with 1 Axes>"
      ]
     },
     "metadata": {
      "needs_background": "light"
     },
     "output_type": "display_data"
    }
   ],
   "source": [
    "plt.plot(mod_shared[0], mod_shared[1])\n",
    "plt.plot(shared[0], shared[1])\n",
    "plt.show()"
   ]
  },
  {
   "cell_type": "code",
   "execution_count": 23,
   "metadata": {},
   "outputs": [
    {
     "name": "stderr",
     "output_type": "stream",
     "text": [
      "\r",
      "  0%|          | 0/38 [00:00<?, ?it/s]"
     ]
    },
    {
     "name": "stdout",
     "output_type": "stream",
     "text": [
      "0.0\n",
      "0.001\n",
      "0.002\n",
      "0.003\n",
      "0.004\n",
      "0.005\n",
      "0.006\n",
      "0.007\n",
      "0.008\n",
      "0.009000000000000001\n"
     ]
    },
    {
     "name": "stderr",
     "output_type": "stream",
     "text": [
      "\r",
      "  3%|▎         | 1/38 [00:20<12:22, 20.07s/it]"
     ]
    },
    {
     "name": "stdout",
     "output_type": "stream",
     "text": [
      "0.0\n",
      "0.001\n",
      "0.002\n",
      "0.003\n",
      "0.004\n",
      "0.005\n",
      "0.006\n",
      "0.007\n",
      "0.008\n",
      "0.009000000000000001\n"
     ]
    },
    {
     "name": "stderr",
     "output_type": "stream",
     "text": [
      "\r",
      "  5%|▌         | 2/38 [00:42<12:23, 20.66s/it]"
     ]
    },
    {
     "name": "stdout",
     "output_type": "stream",
     "text": [
      "0.0\n",
      "0.001\n",
      "0.002\n",
      "0.003\n",
      "0.004\n",
      "0.005\n",
      "0.006\n",
      "0.007\n",
      "0.008\n",
      "0.009000000000000001\n"
     ]
    },
    {
     "name": "stderr",
     "output_type": "stream",
     "text": [
      "\r",
      "  8%|▊         | 3/38 [01:03<12:05, 20.74s/it]"
     ]
    },
    {
     "name": "stdout",
     "output_type": "stream",
     "text": [
      "0.0\n",
      "0.001\n",
      "0.002\n",
      "0.003\n",
      "0.004\n",
      "0.005\n",
      "0.006\n",
      "0.007\n",
      "0.008\n",
      "0.009000000000000001\n"
     ]
    },
    {
     "name": "stderr",
     "output_type": "stream",
     "text": [
      "\r",
      " 11%|█         | 4/38 [01:24<11:57, 21.10s/it]"
     ]
    },
    {
     "name": "stdout",
     "output_type": "stream",
     "text": [
      "0.0\n",
      "0.001\n",
      "0.002\n",
      "0.003\n",
      "0.004\n",
      "0.005\n",
      "0.006\n",
      "0.007\n",
      "0.008\n",
      "0.009000000000000001\n"
     ]
    },
    {
     "name": "stderr",
     "output_type": "stream",
     "text": [
      "\r",
      " 13%|█▎        | 5/38 [01:50<12:18, 22.39s/it]"
     ]
    },
    {
     "name": "stdout",
     "output_type": "stream",
     "text": [
      "0.0\n",
      "0.001\n",
      "0.002\n",
      "0.003\n",
      "0.004\n",
      "0.005\n",
      "0.006\n",
      "0.007\n",
      "0.008\n",
      "0.009000000000000001\n"
     ]
    },
    {
     "name": "stderr",
     "output_type": "stream",
     "text": [
      "\r",
      " 16%|█▌        | 6/38 [02:13<12:06, 22.72s/it]"
     ]
    },
    {
     "name": "stdout",
     "output_type": "stream",
     "text": [
      "0.0\n",
      "0.001\n",
      "0.002\n",
      "0.003\n",
      "0.004\n",
      "0.005\n",
      "0.006\n",
      "0.007\n",
      "0.008\n",
      "0.009000000000000001\n"
     ]
    },
    {
     "name": "stderr",
     "output_type": "stream",
     "text": [
      "\r",
      " 18%|█▊        | 7/38 [02:38<12:00, 23.25s/it]"
     ]
    },
    {
     "name": "stdout",
     "output_type": "stream",
     "text": [
      "0.0\n",
      "0.001\n",
      "0.002\n",
      "0.003\n",
      "0.004\n",
      "0.005\n",
      "0.006\n",
      "0.007\n",
      "0.008\n",
      "0.009000000000000001\n"
     ]
    },
    {
     "name": "stderr",
     "output_type": "stream",
     "text": [
      "\r",
      " 21%|██        | 8/38 [03:00<11:26, 22.88s/it]"
     ]
    },
    {
     "name": "stdout",
     "output_type": "stream",
     "text": [
      "0.0\n",
      "0.001\n",
      "0.002\n",
      "0.003\n",
      "0.004\n",
      "0.005\n",
      "0.006\n",
      "0.007\n",
      "0.008\n",
      "0.009000000000000001\n"
     ]
    },
    {
     "name": "stderr",
     "output_type": "stream",
     "text": [
      "\r",
      " 24%|██▎       | 9/38 [03:23<11:03, 22.89s/it]"
     ]
    },
    {
     "name": "stdout",
     "output_type": "stream",
     "text": [
      "0.0\n",
      "0.001\n",
      "0.002\n",
      "0.003\n",
      "0.004\n",
      "0.005\n",
      "0.006\n"
     ]
    },
    {
     "ename": "KeyboardInterrupt",
     "evalue": "",
     "output_type": "error",
     "traceback": [
      "\u001b[0;31m---------------------------------------------------------------------------\u001b[0m",
      "\u001b[0;31mKeyboardInterrupt\u001b[0m                         Traceback (most recent call last)",
      "\u001b[0;32m<ipython-input-23-0e50cf810c68>\u001b[0m in \u001b[0;36m<module>\u001b[0;34m\u001b[0m\n\u001b[1;32m     27\u001b[0m         \u001b[0mprint\u001b[0m\u001b[0;34m(\u001b[0m\u001b[0mlr\u001b[0m\u001b[0;34m)\u001b[0m\u001b[0;34m\u001b[0m\u001b[0;34m\u001b[0m\u001b[0m\n\u001b[1;32m     28\u001b[0m         interventions, returns = nqcost(env, human_policy, deepcopy(q_star), gamma,\\\n\u001b[0;32m---> 29\u001b[0;31m                 lr, min_performance, num_episodes = 1000)\n\u001b[0m\u001b[1;32m     30\u001b[0m         \u001b[0mnq_cost\u001b[0m\u001b[0;34m.\u001b[0m\u001b[0mappend\u001b[0m\u001b[0;34m(\u001b[0m\u001b[0;34m(\u001b[0m\u001b[0mnp\u001b[0m\u001b[0;34m.\u001b[0m\u001b[0mmean\u001b[0m\u001b[0;34m(\u001b[0m\u001b[0minterventions\u001b[0m\u001b[0;34m)\u001b[0m\u001b[0;34m,\u001b[0m\u001b[0mnp\u001b[0m\u001b[0;34m.\u001b[0m\u001b[0mmin\u001b[0m\u001b[0;34m(\u001b[0m\u001b[0mreturns\u001b[0m\u001b[0;34m)\u001b[0m\u001b[0;34m)\u001b[0m\u001b[0;34m)\u001b[0m\u001b[0;34m\u001b[0m\u001b[0;34m\u001b[0m\u001b[0m\n\u001b[1;32m     31\u001b[0m \u001b[0;34m\u001b[0m\u001b[0m\n",
      "\u001b[0;32m~/696-ds/Source/nqcost.py\u001b[0m in \u001b[0;36mnqcost\u001b[0;34m(env, human_policy, q2_star, gamma, lr, min_performance, num_episodes, max_steps)\u001b[0m\n\u001b[1;32m     66\u001b[0m     \u001b[0mplt\u001b[0m\u001b[0;34m.\u001b[0m\u001b[0mshow\u001b[0m\u001b[0;34m(\u001b[0m\u001b[0;34m)\u001b[0m\u001b[0;34m\u001b[0m\u001b[0;34m\u001b[0m\u001b[0m\n\u001b[1;32m     67\u001b[0m \u001b[0;34m\u001b[0m\u001b[0m\n\u001b[0;32m---> 68\u001b[0;31m     \u001b[0;32mreturn\u001b[0m \u001b[0mevaluate_interventions\u001b[0m\u001b[0;34m(\u001b[0m\u001b[0menv\u001b[0m\u001b[0;34m,\u001b[0m \u001b[0mhuman_policy\u001b[0m\u001b[0;34m,\u001b[0m \u001b[0magent\u001b[0m\u001b[0;34m,\u001b[0m \u001b[0mis_update\u001b[0m\u001b[0;34m=\u001b[0m\u001b[0;32mTrue\u001b[0m\u001b[0;34m)\u001b[0m\u001b[0;34m\u001b[0m\u001b[0;34m\u001b[0m\u001b[0m\n\u001b[0m\u001b[1;32m     69\u001b[0m \u001b[0;34m\u001b[0m\u001b[0m\n",
      "\u001b[0;32m~/696-ds/Source/helper.py\u001b[0m in \u001b[0;36mevaluate_interventions\u001b[0;34m(env, human_policy, agent, num_episodes, max_steps, is_update)\u001b[0m\n\u001b[1;32m     71\u001b[0m         \u001b[0;32mwhile\u001b[0m \u001b[0;32mnot\u001b[0m \u001b[0mis_end\u001b[0m \u001b[0;32mand\u001b[0m \u001b[0mcount\u001b[0m \u001b[0;34m<\u001b[0m \u001b[0mmax_steps\u001b[0m\u001b[0;34m:\u001b[0m\u001b[0;34m\u001b[0m\u001b[0;34m\u001b[0m\u001b[0m\n\u001b[1;32m     72\u001b[0m             \u001b[0mcount\u001b[0m \u001b[0;34m+=\u001b[0m \u001b[0;36m1\u001b[0m\u001b[0;34m\u001b[0m\u001b[0;34m\u001b[0m\u001b[0m\n\u001b[0;32m---> 73\u001b[0;31m             \u001b[0maction\u001b[0m \u001b[0;34m=\u001b[0m \u001b[0magent\u001b[0m\u001b[0;34m.\u001b[0m\u001b[0mget_action\u001b[0m\u001b[0;34m(\u001b[0m\u001b[0mstate\u001b[0m\u001b[0;34m)\u001b[0m\u001b[0;34m\u001b[0m\u001b[0;34m\u001b[0m\u001b[0m\n\u001b[0m\u001b[1;32m     74\u001b[0m             \u001b[0mhuman_action\u001b[0m \u001b[0;34m=\u001b[0m \u001b[0mhuman_policy\u001b[0m\u001b[0;34m[\u001b[0m\u001b[0mstate\u001b[0m\u001b[0;34m]\u001b[0m\u001b[0;34m\u001b[0m\u001b[0;34m\u001b[0m\u001b[0m\n\u001b[1;32m     75\u001b[0m             \u001b[0;32mif\u001b[0m \u001b[0mhuman_action\u001b[0m \u001b[0;34m!=\u001b[0m \u001b[0maction\u001b[0m\u001b[0;34m:\u001b[0m\u001b[0;34m\u001b[0m\u001b[0;34m\u001b[0m\u001b[0m\n",
      "\u001b[0;32m~/696-ds/Source/systemrl/agents/nq_learning.py\u001b[0m in \u001b[0;36mget_action\u001b[0;34m(self, state)\u001b[0m\n\u001b[1;32m     28\u001b[0m         \u001b[0;32mfor\u001b[0m \u001b[0maction\u001b[0m \u001b[0;32min\u001b[0m \u001b[0mrange\u001b[0m\u001b[0;34m(\u001b[0m\u001b[0mself\u001b[0m\u001b[0;34m.\u001b[0m\u001b[0mnum_actions\u001b[0m\u001b[0;34m)\u001b[0m\u001b[0;34m:\u001b[0m\u001b[0;34m\u001b[0m\u001b[0;34m\u001b[0m\u001b[0m\n\u001b[1;32m     29\u001b[0m             \u001b[0;32mif\u001b[0m \u001b[0mflag\u001b[0m\u001b[0;34m:\u001b[0m\u001b[0;34m\u001b[0m\u001b[0;34m\u001b[0m\u001b[0m\n\u001b[0;32m---> 30\u001b[0;31m                 \u001b[0;32mif\u001b[0m \u001b[0mnq2sa\u001b[0m\u001b[0;34m[\u001b[0m\u001b[0maction\u001b[0m\u001b[0;34m]\u001b[0m \u001b[0;34m>=\u001b[0m \u001b[0mself\u001b[0m\u001b[0;34m.\u001b[0m\u001b[0mmin_performance\u001b[0m \u001b[0;32mand\u001b[0m \u001b[0mq1sa\u001b[0m\u001b[0;34m[\u001b[0m\u001b[0maction\u001b[0m\u001b[0;34m]\u001b[0m \u001b[0;34m>\u001b[0m \u001b[0mmaxq1sa\u001b[0m\u001b[0;34m:\u001b[0m\u001b[0;34m\u001b[0m\u001b[0;34m\u001b[0m\u001b[0m\n\u001b[0m\u001b[1;32m     31\u001b[0m                     \u001b[0mmaxq1sa\u001b[0m \u001b[0;34m=\u001b[0m \u001b[0mq1sa\u001b[0m\u001b[0;34m[\u001b[0m\u001b[0maction\u001b[0m\u001b[0;34m]\u001b[0m\u001b[0;34m\u001b[0m\u001b[0;34m\u001b[0m\u001b[0m\n\u001b[1;32m     32\u001b[0m                     \u001b[0mcurr_action\u001b[0m \u001b[0;34m=\u001b[0m \u001b[0maction\u001b[0m\u001b[0;34m\u001b[0m\u001b[0;34m\u001b[0m\u001b[0m\n",
      "\u001b[0;31mKeyboardInterrupt\u001b[0m: "
     ]
    }
   ],
   "source": [
    "shared = []\n",
    "nq_cost = []\n",
    "min_cost = []\n",
    "mod_shared = []\n",
    "c = []\n",
    "alphas = np.concatenate((np.arange(0, 1e-3, 1e-4), np.arange(1e-3, 1e-2, 1e-3), np.arange(1e-2, 0.1, 1e-2), np.arange(0.1, 1.01, 0.1)))\n",
    "# alphas = np.arange(1e-3, 1e-2, 1e-3)\n",
    "for alpha in tqdm(alphas):\n",
    "    env.reset()\n",
    "    min_performance = baseline + alpha * (J_star-baseline)\n",
    "    #mincost\n",
    "    \"\"\"\n",
    "    untrained_agent = QLambda(num_actions, gamma, learning_rate, 0.5)\n",
    "    interventions, returns = mincost(env, human_policy, min_performance, untrained_agent, num_episodes=1000)\n",
    "    \"\"\"\n",
    "\n",
    "#     #shared autonomy\n",
    "#     interventions, returns = shared_autonomy(env, human_policy, q_star, alpha)\n",
    "#     shared.append((np.mean(interventions), np.min(returns)))\n",
    "    \n",
    "#     #modified shared autonomy\n",
    "#     interventions, returns = shared_modified(env, human_policy, q_star, gamma, min_performance)\n",
    "#     mod_shared.append((np.mean(interventions), np.min(returns)))\n",
    "\n",
    "    #nqlearning\n",
    "    for lr in np.arange(0, 1e-2, 1e-3):\n",
    "        print(lr)\n",
    "        interventions, returns = nqcost(env, human_policy, deepcopy(q_star), gamma,\\\n",
    "                lr, min_performance, num_episodes = 1000)\n",
    "        nq_cost.append((np.mean(interventions),np.min(returns)))\n",
    "        \n",
    "    c.append(nq_cost)\n",
    "\n",
    "# nq_cost = np.array(nq_cost).T\n",
    "# shared = np.array(shared).T\n",
    "# mod_shared = np.array(mod_shared).T\n",
    "c = np.array(c).T\n",
    "\n",
    "# plt.plot(mod_shared[0], mod_shared[1], label=\"mod shared\")\n",
    "# plt.plot(shared[0], shared[1], label=\"shared\")\n",
    "plt.plot(c[0], c[1], label=\"nq\")\n",
    "plt.xlabel(\"interventions\")\n",
    "plt.ylabel(\"returns\")\n",
    "\n",
    "plt.legend()\n",
    "plt.savefig(\"normal_irl\")\n",
    "plt.show()"
   ]
  },
  {
   "cell_type": "code",
   "execution_count": 22,
   "metadata": {},
   "outputs": [
    {
     "name": "stdout",
     "output_type": "stream",
     "text": [
      "0.0\n",
      "0.001\n",
      "0.002\n",
      "0.003\n",
      "0.004\n",
      "0.005\n",
      "0.006\n",
      "0.007\n",
      "0.008\n",
      "0.009000000000000001\n"
     ]
    }
   ],
   "source": [
    "for lr in np.arange(0, 1e-2, 1e-3):\n",
    "    print(lr)"
   ]
  },
  {
   "cell_type": "code",
   "execution_count": null,
   "metadata": {},
   "outputs": [],
   "source": []
  }
 ],
 "metadata": {
  "kernelspec": {
   "display_name": "Python 3",
   "language": "python",
   "name": "python3"
  },
  "language_info": {
   "codemirror_mode": {
    "name": "ipython",
    "version": 3
   },
   "file_extension": ".py",
   "mimetype": "text/x-python",
   "name": "python",
   "nbconvert_exporter": "python",
   "pygments_lexer": "ipython3",
   "version": "3.7.4"
  }
 },
 "nbformat": 4,
 "nbformat_minor": 4
}

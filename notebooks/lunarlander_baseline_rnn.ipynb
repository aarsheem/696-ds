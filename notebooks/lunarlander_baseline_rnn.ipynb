{
 "cells": [
  {
   "cell_type": "code",
   "execution_count": null,
   "metadata": {},
   "outputs": [],
   "source": [
    "from __future__ import absolute_import, division, print_function, unicode_literals\n",
    "\n",
    "import tensorflow as tf\n",
    "from tensorflow.keras import layers\n",
    "import keras\n",
    "\n",
    "import json\n",
    "import numpy as np"
   ]
  },
  {
   "cell_type": "code",
   "execution_count": null,
   "metadata": {},
   "outputs": [],
   "source": [
    "with open(r'C:\\Users\\vichetti\\work_stuff\\maidap\\projects\\project0_alphablue\\maidap_project0\\data\\lunarlander\\sample_lunarlander.tsv',\"r\") as f:\n",
    "    raw_dataset = f.readlines()\n",
    "\n",
    "\n",
    "    \n",
    "def data_generator():\n",
    "    cur_x_sequence = [[]]\n",
    "    cur_y = [0,0,0]\n",
    "    seq_len = 0\n",
    "    for line in raw_dataset:\n",
    "        if line == \"---\\n\":\n",
    "            cur_sequence = [[]]\n",
    "            seq_len = 0\n",
    "        temp_line = json.loads(line)\n",
    "        cur_x_sequence.append(temp_line[0])\n",
    "        y_full.append(temp_line[1])\n",
    "        score_full.append(temp_line[2])\n",
    "\n",
    "\n",
    "    x_train,x_test = split_data(x_full,0.8)\n",
    "    y_train,y_test = split_data(y_full,0.8)\n",
    "\n",
    "    x_train = np.array(x_train)\n",
    "    x_test = np.array(x_test)\n",
    "\n",
    "    y_train = np.array(y_train)\n",
    "    y_test = np.array(y_test)\n",
    "\n",
    "\n",
    "print(\"Training Data Size : \",x_train.shape)\n",
    "print(\"Testing Data Size : \",x_test.shape)"
   ]
  }
 ],
 "metadata": {
  "kernelspec": {
   "display_name": "Python 3",
   "language": "python",
   "name": "python3"
  },
  "language_info": {
   "codemirror_mode": {
    "name": "ipython",
    "version": 3
   },
   "file_extension": ".py",
   "mimetype": "text/x-python",
   "name": "python",
   "nbconvert_exporter": "python",
   "pygments_lexer": "ipython3",
   "version": "3.7.3"
  }
 },
 "nbformat": 4,
 "nbformat_minor": 2
}

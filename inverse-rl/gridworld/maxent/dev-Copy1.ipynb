{
 "cells": [
  {
   "cell_type": "code",
   "execution_count": 6,
   "metadata": {},
   "outputs": [],
   "source": [
    "import sys\n",
    "# sys.path.append(\"../\")\n",
    "sys.path.append(\"/home/abhik/696-ds/Source/systemrl/environments/\")\n",
    "import numpy as np\n",
    "from gridworld import Gridworld\n",
    "\n",
    "\n",
    "#Actions: up (0), down (1), left (2), right (3), do nothing (4)\n",
    "(u,d,l,r) = (0, 1, 2, 3)\n",
    "human_policy = [\n",
    "        r, d, r, d, l,\n",
    "        r, d, r, d, l,\n",
    "        r, d, l, d, d,\n",
    "        r, d, d, d, d, \n",
    "        r, r, r, r, d]\n",
    "\n",
    "np.random.seed(0)\n",
    "startState=0\n",
    "endStates=[24]\n",
    "shape=[5,5]\n",
    "obstacles=[]\n",
    "waterStates=np.arange(1,24)\n",
    "waterRewards=[-1,-1,-1,-5,-9,-3,-4,-1,-6,-5,-1,-1,-1,-2,-6,-1,-8,-4,-5,-7,-1,-1,-1]\n",
    "\n",
    "# expert = []\n",
    "# for _ in range(10000):\n",
    "#     env = Gridworld(startState, endStates, shape, obstacles, waterStates, waterRewards)\n",
    "    \n",
    "#     ep = []\n",
    "#     i = 0\n",
    "#     s = 0\n",
    "#     while i<50:\n",
    "#         a = human_policy[s]\n",
    "#         s,reward,done = env.step(a)\n",
    "#         ep.append([s, a, reward])\n",
    "#         if done:\n",
    "#             break\n",
    "#         i+=1\n",
    "#     # print(i)\n",
    "#     ep = np.array(ep)\n",
    "#     expert.append(ep)\n",
    "# expert_np = np.array(expert)\n",
    "# np.save(\"expert_demo/expert_demo\", expert_np)\n",
    "# print(expert_np.shape)"
   ]
  },
  {
   "cell_type": "code",
   "execution_count": 28,
   "metadata": {},
   "outputs": [
    {
     "name": "stdout",
     "output_type": "stream",
     "text": [
      "(25, 4)\n",
      "(10000,)\n",
      "0 episode score is -181.00\n",
      "0 episode score is -181.00\n",
      "500 episode score is -101.56\n",
      "1000 episode score is -64.58\n",
      "1500 episode score is -48.41\n",
      "2000 episode score is -39.92\n",
      "2500 episode score is -33.31\n",
      "3000 episode score is -28.85\n",
      "3500 episode score is -25.73\n",
      "4000 episode score is -23.46\n",
      "4500 episode score is -21.58\n",
      "5000 episode score is -20.04\n",
      "5500 episode score is -18.73\n",
      "6000 episode score is -17.73\n",
      "6000 episode score is -17.73\n"
     ]
    },
    {
     "data": {
      "image/png": "[encoded data removed]",
      "text/plain": [
       "<Figure size 432x288 with 1 Axes>"
      ]
     },
     "metadata": {
      "needs_background": "light"
     },
     "output_type": "display_data"
    }
   ],
   "source": [
    "import gym\n",
    "import pylab\n",
    "import numpy as np\n",
    "# from gridworld import Gridworld\n",
    "import matplotlib.pyplot as plt\n",
    "import sys\n",
    "\n",
    "sys.path.append(\"/home/abhik/696-ds/Source/systemrl/environments/\")\n",
    "import numpy as np\n",
    "from gridworld import Gridworld\n",
    "\n",
    "from maxent import *\n",
    "\n",
    "n_states = 25 \n",
    "n_actions = 4\n",
    "one_feature = 20 # number of state per one feature\n",
    "q_table = np.ones((n_states, n_actions))*0.0001 # (400, 3)\n",
    "print(q_table.shape)\n",
    "feature_matrix = np.eye((n_states)) # (400, 400)\n",
    "\n",
    "gamma = 1\n",
    "q_learning_rate = 0.03\n",
    "theta_learning_rate = 0.005\n",
    "\n",
    "np.random.seed(1)\n",
    "\n",
    "def idx_demo(env, one_feature):\n",
    "    raw_demo = np.load(file=\"expert_demo/expert_demo.npy\", allow_pickle = True)\n",
    "    print(raw_demo.shape)\n",
    "            \n",
    "    return raw_demo\n",
    "\n",
    "def idx_state(env, state):\n",
    "    return state\n",
    "\n",
    "def update_q_table(state, action, reward, next_state):\n",
    "    q_1 = q_table[state][action]\n",
    "    q_2 = reward + gamma * max(q_table[next_state])\n",
    "    q_table[state][action] += q_learning_rate * (q_2 - q_1)\n",
    "#     print(np.max(q_table))\n",
    "    \n",
    "\n",
    "# env = Gridworld()\n",
    "np.random.seed(0)\n",
    "startState=0\n",
    "endStates=[24]\n",
    "shape=[5,5]\n",
    "obstacles=[]\n",
    "waterStates=np.arange(1,24)\n",
    "waterRewards=[-1,-1,-1,-5,-9,-3,-4,-1,-6,-5,-1,-1,-1,-2,-6,-1,-8,-4,-5,-7,-1,-1,-1]\n",
    "env = Gridworld(startState, endStates, shape, obstacles, waterStates, waterRewards)\n",
    "\n",
    "\n",
    "demonstrations = idx_demo(env, one_feature)\n",
    "\n",
    "expert = expert_feature_expectations(feature_matrix, demonstrations)\n",
    "learner_feature_expectations = np.zeros(n_states)\n",
    "\n",
    "theta = -(np.random.uniform(size=(n_states,)))\n",
    "\n",
    "episodes, scores = [], []\n",
    "avg = []\n",
    "\n",
    "n = 6000\n",
    "for episode in range(n+1):\n",
    "    env.reset()\n",
    "    state = 0\n",
    "    score = 0\n",
    "\n",
    "\n",
    "    if (episode != 0 and episode == 50) or (episode > 50 and episode % 50 == 0):\n",
    "        learner = learner_feature_expectations / episode\n",
    "        maxent_irl(expert, learner, theta, theta_learning_rate)\n",
    "        \n",
    "\n",
    "    while True:\n",
    "        state_idx = idx_state(env, state)\n",
    "        action = np.argmax(q_table[state_idx])\n",
    "        next_state, reward, done = env.step(action)\n",
    "\n",
    "        irl_reward = get_reward(feature_matrix, theta, n_states, state_idx)\n",
    "        next_state_idx = idx_state(env, next_state)\n",
    "        update_q_table(state_idx, action, irl_reward, next_state_idx)\n",
    "\n",
    "        learner_feature_expectations += feature_matrix[int(state_idx)]\n",
    "\n",
    "        score += reward\n",
    "        state = next_state\n",
    "\n",
    "        if done:\n",
    "            scores.append(score)\n",
    "            episodes.append(episode)\n",
    "            avg.append(np.mean(scores))\n",
    "            break\n",
    "            \n",
    "    if episode%500==0:\n",
    "        print('{} episode score is {:.2f}'.format(episode, np.mean(scores)))\n",
    "        \n",
    "\n",
    "    if episode % n == 0:\n",
    "        score_avg = np.mean(scores)\n",
    "        print('{} episode score is {:.2f}'.format(episode, score_avg))\n",
    "        plt.plot(episodes, scores, \"c\")\n",
    "        plt.plot(episodes, avg, \"r\", linewidth = 2)\n",
    "        plt.savefig(\"./learning_curves/maxent_30000.png\")\n",
    "        np.save(\"./results/maxent_q_table\", arr=q_table)\n",
    "        np.save(\"./results/theta\", arr=theta)"
   ]
  },
  {
   "cell_type": "code",
   "execution_count": 29,
   "metadata": {},
   "outputs": [
    {
     "name": "stdout",
     "output_type": "stream",
     "text": [
      "[[-7.50626842e+00 -7.52942893e+00 -7.49837261e+00 -7.22301681e+00]\n",
      " [-5.89558387e+00 -5.62797516e+00 -5.90155017e+00 -5.89258299e+00]\n",
      " [-5.96319494e+00 -5.97591928e+00 -5.96267590e+00 -5.92582705e+00]\n",
      " [-4.93265707e+00 -4.91155839e+00 -4.96733410e+00 -4.90804029e+00]\n",
      " [-4.02287422e+00 -3.99879402e+00 -4.00451475e+00 -4.01999142e+00]\n",
      " [-6.16643008e+00 -6.12256771e+00 -6.13346017e+00 -5.91733950e+00]\n",
      " [-4.87114050e+00 -4.53285959e+00 -4.82962772e+00 -4.83435535e+00]\n",
      " [-5.14086347e+00 -5.04752577e+00 -5.13953880e+00 -5.16768306e+00]\n",
      " [-4.25377076e+00 -4.24074986e+00 -4.28362215e+00 -4.23367522e+00]\n",
      " [-3.07983037e+00 -3.05334154e+00 -3.12253569e+00 -3.08006331e+00]\n",
      " [-5.29729932e+00 -5.21967886e+00 -5.25785140e+00 -5.27599324e+00]\n",
      " [-4.06231083e+00 -3.51762988e+00 -4.05413243e+00 -4.04570816e+00]\n",
      " [-3.89480123e+00 -3.71265559e+00 -3.86058245e+00 -3.85996164e+00]\n",
      " [-3.14471355e+00 -3.18418048e+00 -3.18299285e+00 -3.13862267e+00]\n",
      " [-2.18498112e+00 -2.13061916e+00 -2.18216892e+00 -2.17212878e+00]\n",
      " [-4.01813594e+00 -4.02021115e+00 -4.02485100e+00 -3.77362983e+00]\n",
      " [-3.21216262e+00 -2.78666630e+00 -3.21588591e+00 -3.19949796e+00]\n",
      " [-3.21776008e+00 -2.67844939e+00 -3.21729691e+00 -3.24808240e+00]\n",
      " [-2.22750369e+00 -2.02097272e+00 -2.21927949e+00 -2.21752606e+00]\n",
      " [-1.54861948e+00 -1.49575339e+00 -1.54416390e+00 -1.55510186e+00]\n",
      " [-4.00121068e+00 -4.00621085e+00 -4.01820041e+00 -3.87289817e+00]\n",
      " [-2.97217611e+00 -2.99808426e+00 -2.98144538e+00 -2.36549206e+00]\n",
      " [-1.91963781e+00 -1.92597545e+00 -1.95345049e+00 -1.38232067e+00]\n",
      " [-1.28847253e+00 -1.26864066e+00 -1.27362143e+00 -9.28000594e-01]\n",
      " [ 1.00000000e-04  1.00000000e-04  1.00000000e-04  1.00000000e-04]]\n",
      "0.0001\n"
     ]
    }
   ],
   "source": [
    "print(q_table)\n",
    "print(np.max(q_table))"
   ]
  },
  {
   "cell_type": "code",
   "execution_count": 8,
   "metadata": {},
   "outputs": [
    {
     "data": {
      "text/plain": [
       "array([1, 1, 3, 3, 1, 3, 1, 1, 3, 1, 1, 1, 1, 3, 1, 3, 3, 1, 1, 1, 3, 3,\n",
       "       3, 3, 0])"
      ]
     },
     "execution_count": 8,
     "metadata": {},
     "output_type": "execute_result"
    }
   ],
   "source": [
    "np.argmax(q_table, axis=1)"
   ]
  },
  {
   "cell_type": "code",
   "execution_count": 10,
   "metadata": {},
   "outputs": [
    {
     "data": {
      "text/plain": [
       "13"
      ]
     },
     "execution_count": 10,
     "metadata": {},
     "output_type": "execute_result"
    }
   ],
   "source": [
    "(u,d,l,r) = (0, 1, 2, 3)\n",
    "human_policy = [\n",
    "        r, d, r, d, l,\n",
    "        r, d, r, d, l,\n",
    "        r, d, l, d, d,\n",
    "        r, d, d, d, d, \n",
    "        r, r, r, r, d]\n",
    "\n",
    "sum(1 for i in range(25) if np.argmax(q_table, axis=1)[i]==human_policy[i])"
   ]
  },
  {
   "cell_type": "code",
   "execution_count": 10,
   "metadata": {},
   "outputs": [
    {
     "data": {
      "text/plain": [
       "10"
      ]
     },
     "execution_count": 10,
     "metadata": {},
     "output_type": "execute_result"
    },
    {
     "data": {
      "image/png": "[encoded data removed]",
      "text/plain": [
       "<Figure size 432x288 with 1 Axes>"
      ]
     },
     "metadata": {
      "needs_background": "light"
     },
     "output_type": "display_data"
    }
   ],
   "source": [
    "plt.plot(scores)\n",
    "max(scores)"
   ]
  },
  {
   "cell_type": "code",
   "execution_count": 12,
   "metadata": {},
   "outputs": [
    {
     "data": {
      "text/plain": [
       "array([-1.47812525, -0.4681118 , -0.88693129, -0.80595211, -0.73367406,\n",
       "       -1.40169672, -0.19672408, -1.10875391, -1.09773801, -0.69027676,\n",
       "       -1.5199699 , -0.28713982, -0.77473638, -1.05540647, -0.46504995,\n",
       "       -1.04627006, -0.3423978 , -1.04104718, -0.86327537, -1.05728222,\n",
       "       -1.21933382, -0.86329442, -0.50590732, -0.72220405,  0.        ])"
      ]
     },
     "execution_count": 12,
     "metadata": {},
     "output_type": "execute_result"
    }
   ],
   "source": [
    "theta"
   ]
  },
  {
   "cell_type": "code",
   "execution_count": 16,
   "metadata": {},
   "outputs": [
    {
     "data": {
      "text/plain": [
       "array([[1., 0., 0., 0., 0., 0., 0., 0., 0., 0., 0., 0., 0., 0., 0., 0.,\n",
       "        0., 0., 0., 0., 0., 0., 0., 0., 0.],\n",
       "       [0., 1., 0., 0., 0., 0., 0., 0., 0., 0., 0., 0., 0., 0., 0., 0.,\n",
       "        0., 0., 0., 0., 0., 0., 0., 0., 0.],\n",
       "       [0., 0., 1., 0., 0., 0., 0., 0., 0., 0., 0., 0., 0., 0., 0., 0.,\n",
       "        0., 0., 0., 0., 0., 0., 0., 0., 0.],\n",
       "       [0., 0., 0., 1., 0., 0., 0., 0., 0., 0., 0., 0., 0., 0., 0., 0.,\n",
       "        0., 0., 0., 0., 0., 0., 0., 0., 0.],\n",
       "       [0., 0., 0., 0., 1., 0., 0., 0., 0., 0., 0., 0., 0., 0., 0., 0.,\n",
       "        0., 0., 0., 0., 0., 0., 0., 0., 0.],\n",
       "       [0., 0., 0., 0., 0., 1., 0., 0., 0., 0., 0., 0., 0., 0., 0., 0.,\n",
       "        0., 0., 0., 0., 0., 0., 0., 0., 0.],\n",
       "       [0., 0., 0., 0., 0., 0., 1., 0., 0., 0., 0., 0., 0., 0., 0., 0.,\n",
       "        0., 0., 0., 0., 0., 0., 0., 0., 0.],\n",
       "       [0., 0., 0., 0., 0., 0., 0., 1., 0., 0., 0., 0., 0., 0., 0., 0.,\n",
       "        0., 0., 0., 0., 0., 0., 0., 0., 0.],\n",
       "       [0., 0., 0., 0., 0., 0., 0., 0., 1., 0., 0., 0., 0., 0., 0., 0.,\n",
       "        0., 0., 0., 0., 0., 0., 0., 0., 0.],\n",
       "       [0., 0., 0., 0., 0., 0., 0., 0., 0., 1., 0., 0., 0., 0., 0., 0.,\n",
       "        0., 0., 0., 0., 0., 0., 0., 0., 0.],\n",
       "       [0., 0., 0., 0., 0., 0., 0., 0., 0., 0., 1., 0., 0., 0., 0., 0.,\n",
       "        0., 0., 0., 0., 0., 0., 0., 0., 0.],\n",
       "       [0., 0., 0., 0., 0., 0., 0., 0., 0., 0., 0., 1., 0., 0., 0., 0.,\n",
       "        0., 0., 0., 0., 0., 0., 0., 0., 0.],\n",
       "       [0., 0., 0., 0., 0., 0., 0., 0., 0., 0., 0., 0., 1., 0., 0., 0.,\n",
       "        0., 0., 0., 0., 0., 0., 0., 0., 0.],\n",
       "       [0., 0., 0., 0., 0., 0., 0., 0., 0., 0., 0., 0., 0., 1., 0., 0.,\n",
       "        0., 0., 0., 0., 0., 0., 0., 0., 0.],\n",
       "       [0., 0., 0., 0., 0., 0., 0., 0., 0., 0., 0., 0., 0., 0., 1., 0.,\n",
       "        0., 0., 0., 0., 0., 0., 0., 0., 0.],\n",
       "       [0., 0., 0., 0., 0., 0., 0., 0., 0., 0., 0., 0., 0., 0., 0., 1.,\n",
       "        0., 0., 0., 0., 0., 0., 0., 0., 0.],\n",
       "       [0., 0., 0., 0., 0., 0., 0., 0., 0., 0., 0., 0., 0., 0., 0., 0.,\n",
       "        1., 0., 0., 0., 0., 0., 0., 0., 0.],\n",
       "       [0., 0., 0., 0., 0., 0., 0., 0., 0., 0., 0., 0., 0., 0., 0., 0.,\n",
       "        0., 1., 0., 0., 0., 0., 0., 0., 0.],\n",
       "       [0., 0., 0., 0., 0., 0., 0., 0., 0., 0., 0., 0., 0., 0., 0., 0.,\n",
       "        0., 0., 1., 0., 0., 0., 0., 0., 0.],\n",
       "       [0., 0., 0., 0., 0., 0., 0., 0., 0., 0., 0., 0., 0., 0., 0., 0.,\n",
       "        0., 0., 0., 1., 0., 0., 0., 0., 0.],\n",
       "       [0., 0., 0., 0., 0., 0., 0., 0., 0., 0., 0., 0., 0., 0., 0., 0.,\n",
       "        0., 0., 0., 0., 1., 0., 0., 0., 0.],\n",
       "       [0., 0., 0., 0., 0., 0., 0., 0., 0., 0., 0., 0., 0., 0., 0., 0.,\n",
       "        0., 0., 0., 0., 0., 1., 0., 0., 0.],\n",
       "       [0., 0., 0., 0., 0., 0., 0., 0., 0., 0., 0., 0., 0., 0., 0., 0.,\n",
       "        0., 0., 0., 0., 0., 0., 1., 0., 0.],\n",
       "       [0., 0., 0., 0., 0., 0., 0., 0., 0., 0., 0., 0., 0., 0., 0., 0.,\n",
       "        0., 0., 0., 0., 0., 0., 0., 1., 0.],\n",
       "       [0., 0., 0., 0., 0., 0., 0., 0., 0., 0., 0., 0., 0., 0., 0., 0.,\n",
       "        0., 0., 0., 0., 0., 0., 0., 0., 1.]])"
      ]
     },
     "execution_count": 16,
     "metadata": {},
     "output_type": "execute_result"
    }
   ],
   "source": [
    "feature_matrix"
   ]
  },
  {
   "cell_type": "code",
   "execution_count": 1,
   "metadata": {},
   "outputs": [],
   "source": [
    "import numpy as np"
   ]
  },
  {
   "cell_type": "code",
   "execution_count": 3,
   "metadata": {},
   "outputs": [],
   "source": [
    "q = np.load(\"/home/abhik/696-ds/inverse-rl/gridworld/maxent/results/maxent_q_table.npy\")"
   ]
  },
  {
   "cell_type": "code",
   "execution_count": 4,
   "metadata": {},
   "outputs": [
    {
     "data": {
      "text/plain": [
       "1.4719866482042022e+21"
      ]
     },
     "execution_count": 4,
     "metadata": {},
     "output_type": "execute_result"
    }
   ],
   "source": [
    "np.max(q)"
   ]
  },
  {
   "cell_type": "code",
   "execution_count": 22,
   "metadata": {},
   "outputs": [
    {
     "name": "stdout",
     "output_type": "stream",
     "text": [
      "[[-10.99209067 -10.9854313  -10.99395974 -10.98769622]\n",
      " [ -8.58375358  -8.58025602  -8.5911795   -8.5848945 ]\n",
      " [ -7.49374692  -7.49997669  -7.50085626  -7.48948809]\n",
      " [ -6.25723336  -6.25789144  -6.26274555  -6.25703724]\n",
      " [ -5.38150566  -5.38037628  -5.3885811   -5.3848656 ]\n",
      " [ -8.76435405  -8.75374759  -8.75173089  -8.75152288]\n",
      " [ -6.94561278  -6.93479967  -6.94059699  -6.9421994 ]\n",
      " [ -6.60947172  -6.60437514  -6.61172266  -6.60773922]\n",
      " [ -5.51836964  -5.51420411  -5.51959229  -5.51360362]\n",
      " [ -4.42411483  -4.41838316  -4.42299002  -4.42295336]\n",
      " [ -7.1514768   -7.14232761  -7.14234479  -7.13467372]\n",
      " [ -5.65446481  -5.64367006  -5.65383241  -5.65570564]\n",
      " [ -5.0828516   -5.07977645  -5.08208325  -5.08149061]\n",
      " [ -4.14010411  -4.12435624  -4.13087512  -4.13067844]\n",
      " [ -3.02743882  -3.02953064  -3.03413308  -3.02397991]\n",
      " [ -5.60362809  -5.59631527  -5.59187826  -5.59265247]\n",
      " [ -4.30433837  -4.30442416  -4.29774367  -4.2985523 ]\n",
      " [ -3.75683175  -3.7275123   -3.75305376  -3.75395589]\n",
      " [ -2.56469717  -2.52026344  -2.55876447  -2.55838498]\n",
      " [ -1.75244613  -1.7310434   -1.74875942  -1.74249771]\n",
      " [ -4.95298708  -4.94587566  -4.94813294  -4.94528214]\n",
      " [ -3.37283571  -3.37619193  -3.37524472  -3.21699427]\n",
      " [ -2.00305216  -2.00392953  -2.00305626  -1.82475779]\n",
      " [ -1.118651    -1.11826911  -1.11723787  -0.97142834]\n",
      " [  0.           0.           0.           0.        ]]\n"
     ]
    }
   ],
   "source": [
    "print(q_table)"
   ]
  },
  {
   "cell_type": "code",
   "execution_count": null,
   "metadata": {},
   "outputs": [],
   "source": []
  }
 ],
 "metadata": {
  "kernelspec": {
   "display_name": "Python 3",
   "language": "python",
   "name": "python3"
  },
  "language_info": {
   "codemirror_mode": {
    "name": "ipython",
    "version": 3
   },
   "file_extension": ".py",
   "mimetype": "text/x-python",
   "name": "python",
   "nbconvert_exporter": "python",
   "pygments_lexer": "ipython3",
   "version": "3.7.4"
  }
 },
 "nbformat": 4,
 "nbformat_minor": 4
}

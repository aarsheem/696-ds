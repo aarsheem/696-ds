{
 "cells": [
  {
   "cell_type": "code",
   "execution_count": 16,
   "metadata": {},
   "outputs": [
    {
     "name": "stdout",
     "output_type": "stream",
     "text": [
      "(25, 4)\n",
      "(10000,)\n",
      "0 episode score is -160.00\n"
     ]
    },
    {
     "data": {
      "image/png": "[encoded data removed]",
      "text/plain": [
       "<Figure size 432x288 with 1 Axes>"
      ]
     },
     "metadata": {
      "needs_background": "light"
     },
     "output_type": "display_data"
    }
   ],
   "source": [
    "import gym\n",
    "import pylab\n",
    "import numpy as np\n",
    "from gridworld import Gridworld\n",
    "import matplotlib.pyplot as plt\n",
    "\n",
    "from maxent import *\n",
    "\n",
    "n_states = 25 \n",
    "n_actions = 4\n",
    "one_feature = 20 # number of state per one feature\n",
    "q_table = np.zeros((n_states, n_actions)) # (400, 3)\n",
    "print(q_table.shape)\n",
    "feature_matrix = np.eye((n_states)) # (400, 400)\n",
    "\n",
    "gamma = 1\n",
    "q_learning_rate = 0.03\n",
    "theta_learning_rate = 0.005\n",
    "\n",
    "np.random.seed(1)\n",
    "\n",
    "def idx_demo(env, one_feature):\n",
    "    # env_low = env.observation_space.low     \n",
    "    # env_high = env.observation_space.high   \n",
    "    # env_distance = (env_high - env_low) / one_feature  \n",
    "\n",
    "    raw_demo = np.load(file=\"expert_demo/expert_demo.npy\", allow_pickle = True)\n",
    "    print(raw_demo.shape)\n",
    "    # demonstrations = np.zeros((len(raw_demo), len(raw_demo[0]), 3))\n",
    "\n",
    "    # for x in range(len(raw_demo)):\n",
    "    #     for y in range(len(raw_demo[0])):\n",
    "    #         position_idx = int((raw_demo[x][y][0] - env_low[0]) / env_distance[0])\n",
    "    #         velocity_idx = int((raw_demo[x][y][1] - env_low[1]) / env_distance[1])\n",
    "    #         state_idx = position_idx + velocity_idx * one_feature\n",
    "\n",
    "    #         demonstrations[x][y][0] = state_idx\n",
    "    #         demonstrations[x][y][1] = raw_demo[x][y][2] \n",
    "            \n",
    "    return raw_demo\n",
    "\n",
    "def idx_state(env, state):\n",
    "    # env_low = env.observation_space.low\n",
    "    # env_high = env.observation_space.high \n",
    "    # env_distance = (env_high - env_low) / one_feature \n",
    "    # position_idx = int((state[0] - env_low[0]) / env_distance[0])\n",
    "    # velocity_idx = int((state[1] - env_low[1]) / env_distance[1])\n",
    "    # state_idx = position_idx + velocity_idx * one_feature\n",
    "    return state\n",
    "\n",
    "def update_q_table(state, action, reward, next_state):\n",
    "    q_1 = q_table[state][1]\n",
    "    q_2 = reward + gamma * max(q_table[next_state])\n",
    "    q_table[state][action] += q_learning_rate * (q_2 - q_1)\n",
    "\n",
    "env = Gridworld()\n",
    "\n",
    "# env = gym.make('MountainCar-v0')\n",
    "demonstrations = idx_demo(env, one_feature)\n",
    "\n",
    "expert = expert_feature_expectations(feature_matrix, demonstrations)\n",
    "# plt.plot(expert)\n",
    "learner_feature_expectations = np.zeros(n_states)\n",
    "\n",
    "theta = -(np.random.uniform(size=(n_states,)))\n",
    "\n",
    "episodes, scores = [], []\n",
    "\n",
    "for episode in range(1000):\n",
    "    env.reset()\n",
    "    state = 0\n",
    "    score = 0\n",
    "\n",
    "\n",
    "    if (episode != 0 and episode == 50) or (episode > 50 and episode % 50 == 0):\n",
    "        learner = learner_feature_expectations / episode\n",
    "        plt.plot(learner)\n",
    "        maxent_irl(expert, learner, theta, theta_learning_rate)\n",
    "\n",
    "    while True:\n",
    "        state_idx = idx_state(env, state)\n",
    "        action = np.argmax(q_table[state_idx])\n",
    "        next_state, reward, done, _ = env.step(action)\n",
    "\n",
    "        irl_reward = get_reward(feature_matrix, theta, n_states, state_idx)\n",
    "        # print(irl_reward)\n",
    "        next_state_idx = idx_state(env, next_state)\n",
    "        update_q_table(state_idx, action, irl_reward, next_state_idx)\n",
    "\n",
    "        learner_feature_expectations += feature_matrix[int(state_idx)]\n",
    "\n",
    "        score += reward\n",
    "        state = next_state\n",
    "\n",
    "        if done:\n",
    "            scores.append(score)\n",
    "            episodes.append(episode)\n",
    "            break\n",
    "\n",
    "    if episode % 1000 == 0:\n",
    "        score_avg = np.mean(scores)\n",
    "        print('{} episode score is {:.2f}'.format(episode, score_avg))\n",
    "        pylab.plot(episodes, scores, 'b')\n",
    "        pylab.savefig(\"./learning_curves/maxent_30000.png\")\n",
    "        np.save(\"./results/maxent_q_table\", arr=q_table)"
   ]
  },
  {
   "cell_type": "code",
   "execution_count": 12,
   "metadata": {},
   "outputs": [
    {
     "data": {
      "text/plain": [
       "array([3, 3, 3, 3, 2, 3, 3, 3, 3, 1, 3, 0, 0, 3, 1, 0, 0, 0, 3, 1, 0, 1,\n",
       "       3, 3, 0])"
      ]
     },
     "execution_count": 12,
     "metadata": {},
     "output_type": "execute_result"
    }
   ],
   "source": [
    "np.argmax(q_table, axis=1)"
   ]
  },
  {
   "cell_type": "code",
   "execution_count": 13,
   "metadata": {},
   "outputs": [
    {
     "data": {
      "text/plain": [
       "18"
      ]
     },
     "execution_count": 13,
     "metadata": {},
     "output_type": "execute_result"
    }
   ],
   "source": [
    "human_policy = [3,3,3,3,1,\\\n",
    "                0,3,3,3,1,\\\n",
    "                0,1,3,3,1,\\\n",
    "                0,2,0,3,1,\\\n",
    "                0,2,3,3,0]\n",
    "\n",
    "sum(1 for i in range(25) if np.argmax(q_table, axis=1)[i]==human_policy[i])"
   ]
  },
  {
   "cell_type": "code",
   "execution_count": 10,
   "metadata": {},
   "outputs": [
    {
     "data": {
      "text/plain": [
       "10"
      ]
     },
     "execution_count": 10,
     "metadata": {},
     "output_type": "execute_result"
    },
    {
     "data": {
      "image/png": "[encoded data removed]",
      "text/plain": [
       "<Figure size 432x288 with 1 Axes>"
      ]
     },
     "metadata": {
      "needs_background": "light"
     },
     "output_type": "display_data"
    }
   ],
   "source": [
    "plt.plot(scores)\n",
    "max(scores)"
   ]
  },
  {
   "cell_type": "code",
   "execution_count": null,
   "metadata": {},
   "outputs": [],
   "source": []
  }
 ],
 "metadata": {
  "kernelspec": {
   "display_name": "Python 3",
   "language": "python",
   "name": "python3"
  },
  "language_info": {
   "codemirror_mode": {
    "name": "ipython",
    "version": 3
   },
   "file_extension": ".py",
   "mimetype": "text/x-python",
   "name": "python",
   "nbconvert_exporter": "python",
   "pygments_lexer": "ipython3",
   "version": "3.7.4"
  }
 },
 "nbformat": 4,
 "nbformat_minor": 4
}

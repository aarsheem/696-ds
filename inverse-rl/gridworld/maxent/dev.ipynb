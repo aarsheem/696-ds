{
 "cells": [
  {
   "cell_type": "code",
   "execution_count": 1,
   "metadata": {},
   "outputs": [
    {
     "name": "stdout",
     "output_type": "stream",
     "text": [
      "(10000,)\n"
     ]
    }
   ],
   "source": [
    "import sys\n",
    "sys.path.append(\"../\")\n",
    "import numpy as np\n",
    "from gridworld import Gridworld\n",
    "\n",
    "\n",
    "#Actions: up (0), down (1), left (2), right (3), do nothing (4)\n",
    "\n",
    "human_policy = [3,3,3,3,1,\\\n",
    "                0,3,3,3,1,\\\n",
    "                0,1,3,3,1,\\\n",
    "                0,2,0,3,1,\\\n",
    "                0,2,3,3,0]\n",
    "\n",
    "\n",
    "expert = []\n",
    "for _ in range(10000):\n",
    "    env = Gridworld()\n",
    "    ep = []\n",
    "    i = 0\n",
    "    s = 0\n",
    "    while i<50:\n",
    "        a = human_policy[s]\n",
    "        s,reward,done,_ = env.step(a)\n",
    "        ep.append([s, a, reward])\n",
    "        if done:\n",
    "            break\n",
    "        i+=1\n",
    "    # print(i)\n",
    "    ep = np.array(ep)\n",
    "    expert.append(ep)\n",
    "expert_np = np.array(expert)\n",
    "np.save(\"expert_demo/expert_demo\", expert_np)\n",
    "print(expert_np.shape)"
   ]
  },
  {
   "cell_type": "code",
   "execution_count": 2,
   "metadata": {},
   "outputs": [
    {
     "name": "stdout",
     "output_type": "stream",
     "text": [
      "(25, 4)\n",
      "(10000,)\n",
      "0 episode score is -160.00\n",
      "0 episode score is -160.00\n",
      "50 episode score is -91.57\n",
      "100 episode score is -72.97\n",
      "150 episode score is -60.33\n",
      "200 episode score is -52.09\n",
      "250 episode score is -45.66\n",
      "300 episode score is -40.07\n",
      "350 episode score is -35.95\n",
      "400 episode score is -32.69\n",
      "450 episode score is -29.91\n",
      "500 episode score is -27.43\n",
      "550 episode score is -25.34\n",
      "600 episode score is -23.18\n",
      "650 episode score is -21.06\n",
      "700 episode score is -19.51\n",
      "750 episode score is -18.18\n",
      "800 episode score is -17.25\n",
      "850 episode score is -15.84\n",
      "900 episode score is -14.76\n",
      "950 episode score is -13.77\n",
      "1000 episode score is -12.83\n",
      "1050 episode score is -11.84\n",
      "1100 episode score is -10.94\n",
      "1150 episode score is -10.10\n",
      "1200 episode score is -9.33\n",
      "1250 episode score is -8.59\n",
      "1300 episode score is -8.01\n",
      "1350 episode score is -7.39\n",
      "1400 episode score is -6.80\n",
      "1450 episode score is -6.27\n",
      "1500 episode score is -5.89\n",
      "1550 episode score is -5.41\n",
      "1600 episode score is -5.01\n",
      "1650 episode score is -4.57\n",
      "1700 episode score is -4.19\n",
      "1750 episode score is -3.81\n",
      "1800 episode score is -3.47\n",
      "1850 episode score is -3.13\n",
      "1900 episode score is -2.82\n",
      "1950 episode score is -2.52\n",
      "2000 episode score is -2.25\n",
      "2050 episode score is -2.01\n",
      "2100 episode score is -1.74\n",
      "2150 episode score is -1.49\n",
      "2200 episode score is -1.24\n",
      "2250 episode score is -1.01\n",
      "2300 episode score is -0.82\n",
      "2350 episode score is -0.61\n",
      "2400 episode score is -0.45\n",
      "2450 episode score is -0.27\n",
      "2500 episode score is -0.09\n",
      "2550 episode score is 0.09\n",
      "2600 episode score is 0.24\n",
      "2650 episode score is 0.38\n",
      "2700 episode score is 0.53\n",
      "2750 episode score is 0.68\n",
      "2800 episode score is 0.81\n",
      "2850 episode score is 0.94\n",
      "2900 episode score is 1.07\n",
      "2950 episode score is 1.20\n",
      "3000 episode score is 1.33\n",
      "3050 episode score is 1.45\n",
      "3100 episode score is 1.57\n",
      "3150 episode score is 1.69\n",
      "3200 episode score is 1.79\n",
      "3250 episode score is 1.91\n",
      "3300 episode score is 2.01\n",
      "3350 episode score is 2.10\n",
      "3400 episode score is 2.19\n",
      "3450 episode score is 2.28\n",
      "3500 episode score is 2.37\n",
      "3550 episode score is 2.46\n",
      "3600 episode score is 2.54\n",
      "3650 episode score is 2.62\n",
      "3700 episode score is 2.70\n",
      "3750 episode score is 2.78\n",
      "3800 episode score is 2.85\n",
      "3850 episode score is 2.92\n",
      "3900 episode score is 3.00\n",
      "3950 episode score is 3.08\n",
      "4000 episode score is 3.14\n",
      "4050 episode score is 3.19\n",
      "4100 episode score is 3.26\n",
      "4150 episode score is 3.33\n",
      "4200 episode score is 3.39\n",
      "4250 episode score is 3.46\n",
      "4300 episode score is 3.52\n",
      "4350 episode score is 3.58\n",
      "4400 episode score is 3.64\n",
      "4450 episode score is 3.70\n",
      "4500 episode score is 3.76\n",
      "4550 episode score is 3.81\n",
      "4600 episode score is 3.86\n",
      "4650 episode score is 3.91\n",
      "4700 episode score is 3.95\n",
      "4750 episode score is 3.99\n",
      "4800 episode score is 4.04\n",
      "4850 episode score is 4.09\n",
      "4900 episode score is 4.15\n",
      "4950 episode score is 4.19\n",
      "5000 episode score is 4.24\n",
      "5000 episode score is 4.24\n"
     ]
    },
    {
     "data": {
      "image/png": "[encoded data removed]",
      "text/plain": [
       "<Figure size 432x288 with 1 Axes>"
      ]
     },
     "metadata": {
      "needs_background": "light"
     },
     "output_type": "display_data"
    }
   ],
   "source": [
    "import gym\n",
    "import pylab\n",
    "import numpy as np\n",
    "from gridworld import Gridworld\n",
    "import matplotlib.pyplot as plt\n",
    "\n",
    "from maxent import *\n",
    "\n",
    "n_states = 25 \n",
    "n_actions = 4\n",
    "one_feature = 20 # number of state per one feature\n",
    "q_table = np.zeros((n_states, n_actions)) # (400, 3)\n",
    "print(q_table.shape)\n",
    "feature_matrix = np.eye((n_states)) # (400, 400)\n",
    "\n",
    "gamma = 1\n",
    "q_learning_rate = 0.03\n",
    "theta_learning_rate = 0.005\n",
    "\n",
    "np.random.seed(1)\n",
    "\n",
    "def idx_demo(env, one_feature):\n",
    "    raw_demo = np.load(file=\"expert_demo/expert_demo.npy\", allow_pickle = True)\n",
    "    print(raw_demo.shape)\n",
    "            \n",
    "    return raw_demo\n",
    "\n",
    "def idx_state(env, state):\n",
    "    return state\n",
    "\n",
    "def update_q_table(state, action, reward, next_state):\n",
    "    q_1 = q_table[state][1]\n",
    "    q_2 = reward + gamma * max(q_table[next_state])\n",
    "    q_table[state][action] += q_learning_rate * (q_2 - q_1)\n",
    "\n",
    "env = Gridworld()\n",
    "\n",
    "demonstrations = idx_demo(env, one_feature)\n",
    "\n",
    "expert = expert_feature_expectations(feature_matrix, demonstrations)\n",
    "learner_feature_expectations = np.zeros(n_states)\n",
    "\n",
    "theta = -(np.random.uniform(size=(n_states,)))\n",
    "\n",
    "episodes, scores = [], []\n",
    "avg = []\n",
    "\n",
    "n = 5000\n",
    "for episode in range(n+1):\n",
    "    env.reset()\n",
    "    state = 0\n",
    "    score = 0\n",
    "\n",
    "\n",
    "    if (episode != 0 and episode == 50) or (episode > 50 and episode % 50 == 0):\n",
    "        learner = learner_feature_expectations / episode\n",
    "        maxent_irl(expert, learner, theta, theta_learning_rate)\n",
    "        \n",
    "\n",
    "    while True:\n",
    "        state_idx = idx_state(env, state)\n",
    "        action = np.argmax(q_table[state_idx])\n",
    "        next_state, reward, done, _ = env.step(action)\n",
    "\n",
    "        irl_reward = get_reward(feature_matrix, theta, n_states, state_idx)\n",
    "        next_state_idx = idx_state(env, next_state)\n",
    "        update_q_table(state_idx, action, irl_reward, next_state_idx)\n",
    "\n",
    "        learner_feature_expectations += feature_matrix[int(state_idx)]\n",
    "\n",
    "        score += reward\n",
    "        state = next_state\n",
    "\n",
    "        if done:\n",
    "            scores.append(score)\n",
    "            episodes.append(episode)\n",
    "            avg.append(np.mean(scores))\n",
    "            break\n",
    "            \n",
    "    if episode%50==0:\n",
    "        print('{} episode score is {:.2f}'.format(episode, np.mean(scores)))\n",
    "        \n",
    "\n",
    "    if episode % n == 0:\n",
    "        score_avg = np.mean(scores)\n",
    "        print('{} episode score is {:.2f}'.format(episode, score_avg))\n",
    "        plt.plot(episodes, scores, \"c\")\n",
    "        plt.plot(episodes, avg, \"r\", linewidth = 2)\n",
    "        plt.savefig(\"./learning_curves/maxent_30000.png\")\n",
    "        np.save(\"./results/maxent_q_table\", arr=q_table)"
   ]
  },
  {
   "cell_type": "code",
   "execution_count": 11,
   "metadata": {},
   "outputs": [
    {
     "data": {
      "text/plain": [
       "array([3, 3, 3, 3, 1, 0, 3, 3, 3, 1, 2, 0, 0, 2, 1, 0, 1, 0, 3, 1, 1, 3,\n",
       "       3, 3, 0])"
      ]
     },
     "execution_count": 11,
     "metadata": {},
     "output_type": "execute_result"
    }
   ],
   "source": [
    "np.argmax(q_table, axis=1)"
   ]
  },
  {
   "cell_type": "code",
   "execution_count": 3,
   "metadata": {},
   "outputs": [
    {
     "data": {
      "text/plain": [
       "18"
      ]
     },
     "execution_count": 3,
     "metadata": {},
     "output_type": "execute_result"
    }
   ],
   "source": [
    "human_policy = [3,3,3,3,1,\\\n",
    "                0,3,3,3,1,\\\n",
    "                0,1,3,3,1,\\\n",
    "                0,2,0,3,1,\\\n",
    "                0,2,3,3,0]\n",
    "\n",
    "sum(1 for i in range(25) if np.argmax(q_table, axis=1)[i]==human_policy[i])"
   ]
  },
  {
   "cell_type": "code",
   "execution_count": 10,
   "metadata": {},
   "outputs": [
    {
     "data": {
      "text/plain": [
       "10"
      ]
     },
     "execution_count": 10,
     "metadata": {},
     "output_type": "execute_result"
    },
    {
     "data": {
      "image/png": "[encoded data removed]",
      "text/plain": [
       "<Figure size 432x288 with 1 Axes>"
      ]
     },
     "metadata": {
      "needs_background": "light"
     },
     "output_type": "display_data"
    }
   ],
   "source": [
    "plt.plot(scores)\n",
    "max(scores)"
   ]
  },
  {
   "cell_type": "code",
   "execution_count": null,
   "metadata": {},
   "outputs": [],
   "source": []
  }
 ],
 "metadata": {
  "kernelspec": {
   "display_name": "Python 3",
   "language": "python",
   "name": "python3"
  },
  "language_info": {
   "codemirror_mode": {
    "name": "ipython",
    "version": 3
   },
   "file_extension": ".py",
   "mimetype": "text/x-python",
   "name": "python",
   "nbconvert_exporter": "python",
   "pygments_lexer": "ipython3",
   "version": "3.7.4"
  }
 },
 "nbformat": 4,
 "nbformat_minor": 4
}
